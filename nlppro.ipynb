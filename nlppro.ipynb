{
 "cells": [
  {
   "cell_type": "code",
   "execution_count": 1,
   "id": "58221ce6",
   "metadata": {},
   "outputs": [],
   "source": [
    "import re \n",
    "import json \n",
    "import pandas as pd\n",
    "import warnings\n",
    "warnings.filterwarnings('ignore')\n",
    "from nltk.tokenize import word_tokenize\n",
    "import os\n",
    "import pyttsx3\n",
    "import requests\n",
    "import json\n",
    "import joblib\n",
    "import numpy as np\n"
   ]
  },
  {
   "cell_type": "code",
   "execution_count": 2,
   "id": "f38ba066",
   "metadata": {},
   "outputs": [],
   "source": [
    "#! pip install pyttsx3"
   ]
  },
  {
   "cell_type": "code",
   "execution_count": 3,
   "id": "e0ed1add",
   "metadata": {},
   "outputs": [],
   "source": [
    "#!pip install pygame"
   ]
  },
  {
   "cell_type": "code",
   "execution_count": 4,
   "id": "7c2f5f96",
   "metadata": {},
   "outputs": [
    {
     "name": "stdout",
     "output_type": "stream",
     "text": [
      "pygame 2.1.2 (SDL 2.0.18, Python 3.8.8)\n",
      "Hello from the pygame community. https://www.pygame.org/contribute.html\n"
     ]
    }
   ],
   "source": [
    "import pygame\n",
    "from pygame import mixer"
   ]
  },
  {
   "cell_type": "code",
   "execution_count": 5,
   "id": "dbec4268",
   "metadata": {},
   "outputs": [],
   "source": [
    "\n",
    "import re\n",
    "from sklearn.preprocessing  import LabelEncoder   \n",
    "from nltk.stem import WordNetLemmatizer"
   ]
  },
  {
   "cell_type": "code",
   "execution_count": 6,
   "id": "06b8b8bd",
   "metadata": {},
   "outputs": [
    {
     "name": "stdout",
     "output_type": "stream",
     "text": [
      "Overwriting content.json\n"
     ]
    }
   ],
   "source": [
    "%%writefile content.json\n",
    "{\"intents\":\n",
    "[\n",
    "            {\n",
    "             \"tag\":\"greetings\",\n",
    "             \"patterns\": [\"hello\",\"hey\",\"hi\",\"greetings\",\"what's up?\",\"how is it going\"],\n",
    "             \"responses\":[\"hello\",\"hey!\",\"what can i do for you?\"]\n",
    "            },\n",
    "            {\n",
    "             \"tag\":\"goodbye\",\n",
    "             \"patterns\": [\"see you later\",\"goodbye\",\"have a good day\",\"bye\",\"cao\",\"see ya\"],\n",
    "             \"responses\":[\"have a nice day\",\"goodbye\"]\n",
    "            },\n",
    "    \n",
    "    \n",
    "           {\n",
    "             \"tag\":\"help\",\n",
    "             \"patterns\": [\"what is your duty\",\"duties of you\",\"i want your help\",\"help me\",\"can you help me\",\"what you will do for me\",\"what can you do\",\"what you will do\",\"i need your help\", \"help\",\"help for me\"],\n",
    "             \"responses\":[\"i am your medical chatbot! say your problems i will help you \",\"say about your  health problems \"]\n",
    "            },\n",
    "          {\n",
    "             \"tag\":\"good\",\n",
    "             \"patterns\": [\"how are you\"],\n",
    "             \"responses\":[\" i am fine what is your need i will fullfill your needs\"]\n",
    "            },\n",
    "          {\n",
    "             \"tag\":\"good1\",\n",
    "             \"patterns\": [\"good morning\"],\n",
    "             \"responses\":[\" hi very good morning\"]\n",
    "            },\n",
    "         {\n",
    "             \"tag\":\"love\",\n",
    "             \"patterns\": [\"i love you\",\"love you \"],\n",
    "             \"responses\":[\"love you to\"]\n",
    "            },\n",
    "      {\n",
    "             \"tag\":\"good2\",\n",
    "             \"patterns\": [\"good afternoon\"],\n",
    "             \"responses\":[\" hi very good afternoon\"]\n",
    "            },\n",
    "      {\n",
    "             \"tag\":\"good3\",\n",
    "             \"patterns\": [\"good evening\"],\n",
    "             \"responses\":[\" hi very good evening\"]\n",
    "            },\n",
    "    \n",
    "    \n",
    "    \n",
    "            {\n",
    "             \"tag\":\"song\",\n",
    "             \"patterns\": [\"sing me some song\",\"please sing song \",\"sing song\"],\n",
    "             \"responses\":[\"ok i will song\",\"i will song\"]\n",
    "            },\n",
    "           {\n",
    "             \"tag\":\"joke\",\n",
    "             \"patterns\": [\"tell me joke\",\"say some joke \",\"can you say joke for me\",\"tell joke\",\"i want joke now \"],\n",
    "             \"responses\":[\"you are beautiful\"]\n",
    "            },\n",
    "    \n",
    "    \n",
    "             {\n",
    "             \"tag\":\"song\",\n",
    "             \"patterns\": [\"sing me some song\",\"please sing song \",\"sing song\"],\n",
    "             \"responses\":[\"ok i will sing\",\"i will sing\"]\n",
    "            },\n",
    "    \n",
    "    \n",
    "            {\n",
    "                \"tag\" :\"thank you\",\n",
    "                \"patterns\": [\"thank you!\",\"thanks!\",\"thank you so much \",\"you helped a lot\",\"thanks for your help\"],\n",
    "                \"responses\":[\"welcome\",\"welcome come again\",\"welcome to you\"]\n",
    "            },\n",
    "            {\n",
    "             \"tag\":\"age\",\n",
    "             \"patterns\": [\"i want details of you\",\"tell me about yourself\",\"how old\",\"how old are you?\",\"what is your age\",\"how old are you\",\"age?\"],\n",
    "             \"responses\":[\"I get reborn after every compilation\",\"i am 18 years old\"]\n",
    "            },\n",
    "            {\n",
    "             \"tag\":\"name\",\n",
    "             \"patterns\": [\"what is your name\",\"what should i call you\",\"what's your name?\",\"who are you?\",\"can you tell me your name\"],\n",
    "             \"responses\":[\"you can call me Medbot!\",\"i am Medbot!\",\"i am Medbot your medical assistant\"]\n",
    "            },\n",
    "    \n",
    "             {\n",
    "             \"tag\":\"laugh\",\n",
    "             \"patterns\": [\"ha ha ha \",\"ha ha\"],\n",
    "             \"responses\":[\"ha ha ha \",\"ha ha ha ha  \"]\n",
    "            },\n",
    "    \n",
    "            {\n",
    "             \"tag\":\"common cold symptoms\",\n",
    "             \"patterns\": [\"Runny or stuffy nose\",\n",
    "             \"Sore throat\",\n",
    "             \"Cough\",\n",
    "             \"Congestion\",\n",
    "             \"Slight body aches or a mild headache\",\n",
    "             \"Sneezing\",\n",
    "             \"Generally feeling unwell malaise\"],\n",
    "             \"responses\":[\"It seems that you are suffering from common cold\"]\n",
    "            },\n",
    "            {\n",
    "             \"tag\":\"fever symptoms\",\n",
    "             \"patterns\":[\"Sweating\",\n",
    "             \"Chills and shivering\",\n",
    "             \"Headache\",\n",
    "             \"Muscle aches\",\n",
    "             \"Loss of appetite\",\n",
    "             \"Irritability\",\n",
    "             \"Dehydration\",\n",
    "             \"General weakness\"],\n",
    "             \"responses\":[\"It seems that you are suffering from fever\"]\n",
    "            },\n",
    "            {\n",
    "             \"tag\":\"Diabetes symptoms\",\n",
    "             \"patterns\":[\"increased hunger\",\n",
    "             \"increased thirst\",\n",
    "             \"weight loss\",\n",
    "             \"frequent urination\",\n",
    "             \"blurry vision\",\n",
    "             \"extreme fatigue\"],\n",
    "             \"responses\":[\"It seems that you are suffering from Diabetes\"]\n",
    "            },\n",
    "            {\n",
    "             \"tag\":\"Depression symptoms\",\n",
    "             \"patterns\":[\"Hopeless outlook\",\n",
    "             \"Lost interest\",\n",
    "             \"Increased fatigue\",\n",
    "             \"sleep problem\",\n",
    "             \"Anxiety\",\n",
    "             \"change in weight\",\n",
    "             \"Looking at death\"],\n",
    "             \"responses\":[\"It seem that you are suffering from depression\"]\n",
    "            },\n",
    "            {\n",
    "             \"tag\":\"Asthma symptoms\",\n",
    "             \"patterns\":[\"coughing\",\n",
    "             \"tightness in the chest\",\n",
    "             \"shortness of breath\",\n",
    "             \"difficulty talking\",\n",
    "             \"panic\",\n",
    "             \"fatigue\"],\n",
    "             \"responses\":[\"It seem that you are suffering from Asthma\"]\n",
    "            },\n",
    "            {\n",
    "             \"tag\":\"common cold prevention\",\n",
    "             \"patterns\":[\"What medicines can I buy to help me with my common cold?\",\"i have cold\",\"i am suffering from cold\",\"ok what are the medicines for common cold\",\"medicines for common cold\",\"i got cold tell me some medicines\",\"cold for me\",\"cold\",\"for me cold\",\"tell me some prevention method from common cold\",\"What should I eat or drink if i am suffering from common cold?\",\"How can I keep from getting a cold or the flu?\"],\n",
    "             \"responses\":[\"medicines you can consume : Dextromethorphan,Decongestant,Diphenhydramine,Crocin Cold & Flu Max, preventions that you must follow :Wash your hands,Avoid touching your face,Clean frequently used surfaces,Use hand sanitizers,SUGGESTED FOODS ARE:Garlic,Vitamin C–containing fruits,Leafy greens,Broccoli,Oatmeal,Spices,Chicken Soup\"]\n",
    "            },\n",
    "            {\n",
    "             \"tag\":\"fever prevention\",\n",
    "             \"patterns\":[\"What medicines can I buy to help me with my fever?\",\"i have fever\",\"fever\",\"ya can you say medicines for fever\",\"fever\",\"i got fever\",\"i am suffering from fever\",\"tell me some prevention method from fever\",\"What should I eat or drink if i am suffering from fever?\",\"How can I keep from getting a fever?\"],\n",
    "             \"responses\":[\"medicines you can consume : acetaminophen ,ibuprofen,aspirin,Crocin Cold & Flu Max, prevention that you must follow :Wash your hands,Cover your mouth when you cough and your nose when you sneeze,Clean frequently used surfaces,Avoid sharing cups, glasses, and eating utensils with other people.,SUGGESTED FOODS ARE:Garlic,Vitamin C–containing fruits,Leafy greens,Broccoli,Oatmeal,Spices,Chicken Soup\"]\n",
    "            },\n",
    "            {\n",
    "             \"tag\":\"diabetes prevention\",\n",
    "             \"patterns\":[\"What medicines can I buy to help me with my diabetes?\",\"ok what are the medicines for diabetes \",\"ya can you say medicines for diabetes\",\"i have diabetes\",\"i got diabetes\",\"i am suffering from fever\",\"diabetes for me\",\"for me diabetes\",\"tell me some prevention method from diabetes\",\"What should I eat or drink if i am suffering from diabetes?\",\"How can I keep from getting diabetes?\"],\n",
    "             \"responses\":[\"medicines you can consume : Insulin ,Amylinomimetic drug,Dipeptidyl peptidase-4 (DPP-4) inhibitor, prevention that you must follow :Cut Sugar and Refined Carbs From Your Diet,Work Out Regularly,Drink Water as Your Primary Beverage,Lose Weight If You’re Overweight or Obese,Quit Smoking, Follow a Very-Low-Carb Diet,Watch Portion Sizes,SUGGESTED FOODS ARE:Leafy greens,Avocados,Eggs\"]\n",
    "            },\n",
    "            {\n",
    "             \"tag\":\"depression prevention\",\n",
    "             \"patterns\":[\"What medicines can I buy to help me with my depression?\",\"ya can you say medicines for depression\",\"i am suffering from depression\",\"depression prevention\",\"depression prevention methods\",\"i got depression\",\"depression for me\",\" i have depression\",\"depression prevention\",\"tell me some prevention method from depression\",\"What should I eat or drink if i am suffering from depression?\",\"How can I keep from getting depression?\"],\n",
    "             \"responses\":[\"medicines you can consume :  brexpiprazole, quetiapine,olanzapine, prevention that you must follow :Exercise regularly,Cut back on social media time,Drink Water as Your Primary Beverage,Build strong relationships,Minimize your daily choices, Follow a Very-Low-Carb Diet,SUGGESTED FOODS ARE:Get Enough Vitamin D,Include Omega-3 Fatty Acids,Beans and legumes\"]\n",
    "            },\n",
    "            {\n",
    "             \"tag\":\"asthma prevention\",\n",
    "             \"patterns\":[\"What medicines can I buy to help me with my asthma?\",\"ya can you say medicines for asthama\",\"i am suffering from asthma\",\"i have asthama\",\"asthma\",\"for me asthama\",\"i got asthama\",\"asthama\",\"tell me some prevention method from asthma\",\"What should I eat or drink if i am suffering from asthma?\",\"How can I keep from getting asthma?\"],\n",
    "             \"responses\":[\"medicines you can consume : epinephrine,anticholinergic,Proair HFA, prevention that you must follow : Identify Asthma Triggers, Stay Away From Allergens,Avoid Smoke of Any Type,SUGGESTED FOODS ARE:carrots,juice,eggs,broccoli,cantaloupe,milk\"]\n",
    "            },\n",
    "            {\n",
    "             \"tag\":\"Consultation\",\n",
    "             \"patterns\": [\"who should i contact for consultation?\",\"how can i consult doctor\",\"consultation of doctor\",\"how to consult doctor \",\"please tell me how to consult doctor\",\"doctor consultation\",\"tell me some doctors website to consult\",\"is there any doctor available?\",\"can you give me some suggestions for doctor consultations?\",\"can you set up a meeting with a doctor for consultation?\",\"is there any doctor available for consultation\"],\n",
    "             \"responses\":[\"You can contact various doctors here for any kind of consultation: 1. https://www.1mg.com/online-doctor-consultation, 2. https://www.tatahealth.com/online-doctor-consultation/general-physician, 3. https://www.doconline.com/, or you can pay a visit to your local area doctor or family doctor.\"]\n",
    "            }\n",
    "]}"
   ]
  },
  {
   "cell_type": "code",
   "execution_count": 7,
   "id": "6811575f",
   "metadata": {},
   "outputs": [],
   "source": [
    "with open(\"content.json\") as content:\n",
    "     data=json.load(content)"
   ]
  },
  {
   "cell_type": "code",
   "execution_count": 8,
   "id": "1df7b984",
   "metadata": {},
   "outputs": [],
   "source": [
    "tags=[]\n",
    "patterns=[]\n",
    "responses={}"
   ]
  },
  {
   "cell_type": "code",
   "execution_count": 9,
   "id": "dd9813ff",
   "metadata": {},
   "outputs": [],
   "source": [
    "for intent in data[\"intents\"]:\n",
    "  responses[intent[\"tag\"]]=intent[\"responses\"]\n",
    "  for lines in intent[\"patterns\"]:\n",
    "    patterns.append(lines)\n",
    "    tags.append(intent[\"tag\"])"
   ]
  },
  {
   "cell_type": "code",
   "execution_count": 10,
   "id": "3a9c8e5c",
   "metadata": {},
   "outputs": [
    {
     "data": {
      "text/plain": [
       "['responses']"
      ]
     },
     "execution_count": 10,
     "metadata": {},
     "output_type": "execute_result"
    }
   ],
   "source": [
    "joblib.dump(responses,\"responses\")"
   ]
  },
  {
   "cell_type": "code",
   "execution_count": 11,
   "id": "e86e621e",
   "metadata": {},
   "outputs": [],
   "source": [
    "df=pd.DataFrame({\"inputs\":patterns,\"tags\":tags})"
   ]
  },
  {
   "cell_type": "code",
   "execution_count": 12,
   "id": "c853c2d4",
   "metadata": {},
   "outputs": [
    {
     "data": {
      "text/html": [
       "<div>\n",
       "<style scoped>\n",
       "    .dataframe tbody tr th:only-of-type {\n",
       "        vertical-align: middle;\n",
       "    }\n",
       "\n",
       "    .dataframe tbody tr th {\n",
       "        vertical-align: top;\n",
       "    }\n",
       "\n",
       "    .dataframe thead th {\n",
       "        text-align: right;\n",
       "    }\n",
       "</style>\n",
       "<table border=\"1\" class=\"dataframe\">\n",
       "  <thead>\n",
       "    <tr style=\"text-align: right;\">\n",
       "      <th></th>\n",
       "      <th>inputs</th>\n",
       "      <th>tags</th>\n",
       "    </tr>\n",
       "  </thead>\n",
       "  <tbody>\n",
       "    <tr>\n",
       "      <th>0</th>\n",
       "      <td>hello</td>\n",
       "      <td>greetings</td>\n",
       "    </tr>\n",
       "    <tr>\n",
       "      <th>1</th>\n",
       "      <td>hey</td>\n",
       "      <td>greetings</td>\n",
       "    </tr>\n",
       "    <tr>\n",
       "      <th>2</th>\n",
       "      <td>hi</td>\n",
       "      <td>greetings</td>\n",
       "    </tr>\n",
       "    <tr>\n",
       "      <th>3</th>\n",
       "      <td>greetings</td>\n",
       "      <td>greetings</td>\n",
       "    </tr>\n",
       "    <tr>\n",
       "      <th>4</th>\n",
       "      <td>what's up?</td>\n",
       "      <td>greetings</td>\n",
       "    </tr>\n",
       "    <tr>\n",
       "      <th>...</th>\n",
       "      <td>...</td>\n",
       "      <td>...</td>\n",
       "    </tr>\n",
       "    <tr>\n",
       "      <th>155</th>\n",
       "      <td>tell me some doctors website to consult</td>\n",
       "      <td>Consultation</td>\n",
       "    </tr>\n",
       "    <tr>\n",
       "      <th>156</th>\n",
       "      <td>is there any doctor available?</td>\n",
       "      <td>Consultation</td>\n",
       "    </tr>\n",
       "    <tr>\n",
       "      <th>157</th>\n",
       "      <td>can you give me some suggestions for doctor co...</td>\n",
       "      <td>Consultation</td>\n",
       "    </tr>\n",
       "    <tr>\n",
       "      <th>158</th>\n",
       "      <td>can you set up a meeting with a doctor for con...</td>\n",
       "      <td>Consultation</td>\n",
       "    </tr>\n",
       "    <tr>\n",
       "      <th>159</th>\n",
       "      <td>is there any doctor available for consultation</td>\n",
       "      <td>Consultation</td>\n",
       "    </tr>\n",
       "  </tbody>\n",
       "</table>\n",
       "<p>160 rows × 2 columns</p>\n",
       "</div>"
      ],
      "text/plain": [
       "                                                inputs          tags\n",
       "0                                                hello     greetings\n",
       "1                                                  hey     greetings\n",
       "2                                                   hi     greetings\n",
       "3                                            greetings     greetings\n",
       "4                                           what's up?     greetings\n",
       "..                                                 ...           ...\n",
       "155            tell me some doctors website to consult  Consultation\n",
       "156                     is there any doctor available?  Consultation\n",
       "157  can you give me some suggestions for doctor co...  Consultation\n",
       "158  can you set up a meeting with a doctor for con...  Consultation\n",
       "159     is there any doctor available for consultation  Consultation\n",
       "\n",
       "[160 rows x 2 columns]"
      ]
     },
     "execution_count": 12,
     "metadata": {},
     "output_type": "execute_result"
    }
   ],
   "source": [
    "df"
   ]
  },
  {
   "cell_type": "code",
   "execution_count": 13,
   "id": "80609ed3",
   "metadata": {},
   "outputs": [],
   "source": [
    "#data preprocessing \n",
    "ps=WordNetLemmatizer()\n",
    "corpus=[]\n",
    "potter=[]\n",
    "def preprocess1(mc):\n",
    "  for i in mc:\n",
    "    input1=i.lower()\n",
    "    m=re.sub('[^a-zA-Z]',' ',input1)\n",
    "    split1=m.split()\n",
    "    port=[ps.lemmatize(i) for i in split1]\n",
    "    port=\" \".join(port)\n",
    "    corpus.append(port)\n",
    "  return corpus\n"
   ]
  },
  {
   "cell_type": "code",
   "execution_count": 14,
   "id": "818583fb",
   "metadata": {},
   "outputs": [],
   "source": [
    "#import nltk\n",
    "#nltk.download('wordnet')\n",
    "#nltk.download('omw-1.4')"
   ]
  },
  {
   "cell_type": "code",
   "execution_count": 15,
   "id": "c6dde544",
   "metadata": {},
   "outputs": [],
   "source": [
    "corpus1=preprocess1(df[\"inputs\"])"
   ]
  },
  {
   "cell_type": "code",
   "execution_count": 16,
   "id": "92074106",
   "metadata": {},
   "outputs": [
    {
     "data": {
      "text/plain": [
       "['hello',\n",
       " 'hey',\n",
       " 'hi',\n",
       " 'greeting',\n",
       " 'what s up',\n",
       " 'how is it going',\n",
       " 'see you later',\n",
       " 'goodbye',\n",
       " 'have a good day',\n",
       " 'bye',\n",
       " 'cao',\n",
       " 'see ya',\n",
       " 'what is your duty',\n",
       " 'duty of you',\n",
       " 'i want your help',\n",
       " 'help me',\n",
       " 'can you help me',\n",
       " 'what you will do for me',\n",
       " 'what can you do',\n",
       " 'what you will do',\n",
       " 'i need your help',\n",
       " 'help',\n",
       " 'help for me',\n",
       " 'how are you',\n",
       " 'good morning',\n",
       " 'i love you',\n",
       " 'love you',\n",
       " 'good afternoon',\n",
       " 'good evening',\n",
       " 'sing me some song',\n",
       " 'please sing song',\n",
       " 'sing song',\n",
       " 'tell me joke',\n",
       " 'say some joke',\n",
       " 'can you say joke for me',\n",
       " 'tell joke',\n",
       " 'i want joke now',\n",
       " 'sing me some song',\n",
       " 'please sing song',\n",
       " 'sing song',\n",
       " 'thank you',\n",
       " 'thanks',\n",
       " 'thank you so much',\n",
       " 'you helped a lot',\n",
       " 'thanks for your help',\n",
       " 'i want detail of you',\n",
       " 'tell me about yourself',\n",
       " 'how old',\n",
       " 'how old are you',\n",
       " 'what is your age',\n",
       " 'how old are you',\n",
       " 'age',\n",
       " 'what is your name',\n",
       " 'what should i call you',\n",
       " 'what s your name',\n",
       " 'who are you',\n",
       " 'can you tell me your name',\n",
       " 'ha ha ha',\n",
       " 'ha ha',\n",
       " 'runny or stuffy nose',\n",
       " 'sore throat',\n",
       " 'cough',\n",
       " 'congestion',\n",
       " 'slight body ache or a mild headache',\n",
       " 'sneezing',\n",
       " 'generally feeling unwell malaise',\n",
       " 'sweating',\n",
       " 'chill and shivering',\n",
       " 'headache',\n",
       " 'muscle ache',\n",
       " 'loss of appetite',\n",
       " 'irritability',\n",
       " 'dehydration',\n",
       " 'general weakness',\n",
       " 'increased hunger',\n",
       " 'increased thirst',\n",
       " 'weight loss',\n",
       " 'frequent urination',\n",
       " 'blurry vision',\n",
       " 'extreme fatigue',\n",
       " 'hopeless outlook',\n",
       " 'lost interest',\n",
       " 'increased fatigue',\n",
       " 'sleep problem',\n",
       " 'anxiety',\n",
       " 'change in weight',\n",
       " 'looking at death',\n",
       " 'coughing',\n",
       " 'tightness in the chest',\n",
       " 'shortness of breath',\n",
       " 'difficulty talking',\n",
       " 'panic',\n",
       " 'fatigue',\n",
       " 'what medicine can i buy to help me with my common cold',\n",
       " 'i have cold',\n",
       " 'i am suffering from cold',\n",
       " 'ok what are the medicine for common cold',\n",
       " 'medicine for common cold',\n",
       " 'i got cold tell me some medicine',\n",
       " 'cold for me',\n",
       " 'cold',\n",
       " 'for me cold',\n",
       " 'tell me some prevention method from common cold',\n",
       " 'what should i eat or drink if i am suffering from common cold',\n",
       " 'how can i keep from getting a cold or the flu',\n",
       " 'what medicine can i buy to help me with my fever',\n",
       " 'i have fever',\n",
       " 'fever',\n",
       " 'ya can you say medicine for fever',\n",
       " 'fever',\n",
       " 'i got fever',\n",
       " 'i am suffering from fever',\n",
       " 'tell me some prevention method from fever',\n",
       " 'what should i eat or drink if i am suffering from fever',\n",
       " 'how can i keep from getting a fever',\n",
       " 'what medicine can i buy to help me with my diabetes',\n",
       " 'ok what are the medicine for diabetes',\n",
       " 'ya can you say medicine for diabetes',\n",
       " 'i have diabetes',\n",
       " 'i got diabetes',\n",
       " 'i am suffering from fever',\n",
       " 'diabetes for me',\n",
       " 'for me diabetes',\n",
       " 'tell me some prevention method from diabetes',\n",
       " 'what should i eat or drink if i am suffering from diabetes',\n",
       " 'how can i keep from getting diabetes',\n",
       " 'what medicine can i buy to help me with my depression',\n",
       " 'ya can you say medicine for depression',\n",
       " 'i am suffering from depression',\n",
       " 'depression prevention',\n",
       " 'depression prevention method',\n",
       " 'i got depression',\n",
       " 'depression for me',\n",
       " 'i have depression',\n",
       " 'depression prevention',\n",
       " 'tell me some prevention method from depression',\n",
       " 'what should i eat or drink if i am suffering from depression',\n",
       " 'how can i keep from getting depression',\n",
       " 'what medicine can i buy to help me with my asthma',\n",
       " 'ya can you say medicine for asthama',\n",
       " 'i am suffering from asthma',\n",
       " 'i have asthama',\n",
       " 'asthma',\n",
       " 'for me asthama',\n",
       " 'i got asthama',\n",
       " 'asthama',\n",
       " 'tell me some prevention method from asthma',\n",
       " 'what should i eat or drink if i am suffering from asthma',\n",
       " 'how can i keep from getting asthma',\n",
       " 'who should i contact for consultation',\n",
       " 'how can i consult doctor',\n",
       " 'consultation of doctor',\n",
       " 'how to consult doctor',\n",
       " 'please tell me how to consult doctor',\n",
       " 'doctor consultation',\n",
       " 'tell me some doctor website to consult',\n",
       " 'is there any doctor available',\n",
       " 'can you give me some suggestion for doctor consultation',\n",
       " 'can you set up a meeting with a doctor for consultation',\n",
       " 'is there any doctor available for consultation']"
      ]
     },
     "execution_count": 16,
     "metadata": {},
     "output_type": "execute_result"
    }
   ],
   "source": [
    "corpus1"
   ]
  },
  {
   "cell_type": "code",
   "execution_count": null,
   "id": "56a16abb",
   "metadata": {},
   "outputs": [],
   "source": []
  },
  {
   "cell_type": "code",
   "execution_count": 17,
   "id": "f0d0e898",
   "metadata": {},
   "outputs": [],
   "source": [
    "lb=LabelEncoder()"
   ]
  },
  {
   "cell_type": "code",
   "execution_count": 18,
   "id": "dfcb9491",
   "metadata": {},
   "outputs": [],
   "source": [
    "y=lb.fit_transform(df[\"tags\"])"
   ]
  },
  {
   "cell_type": "code",
   "execution_count": 19,
   "id": "29b8a033",
   "metadata": {},
   "outputs": [
    {
     "data": {
      "text/plain": [
       "array([17, 17, 17, 17, 17, 17, 16, 16, 16, 16, 16, 16, 18, 18, 18, 18, 18,\n",
       "       18, 18, 18, 18, 18, 18, 12, 13, 21, 21, 14, 15, 23, 23, 23, 19, 19,\n",
       "       19, 19, 19, 23, 23, 23, 24, 24, 24, 24, 24,  4,  4,  4,  4,  4,  4,\n",
       "        4, 22, 22, 22, 22, 22, 20, 20,  7,  7,  7,  7,  7,  7,  7, 11, 11,\n",
       "       11, 11, 11, 11, 11, 11,  3,  3,  3,  3,  3,  3,  2,  2,  2,  2,  2,\n",
       "        2,  2,  0,  0,  0,  0,  0,  0,  6,  6,  6,  6,  6,  6,  6,  6,  6,\n",
       "        6,  6,  6, 10, 10, 10, 10, 10, 10, 10, 10, 10, 10,  9,  9,  9,  9,\n",
       "        9,  9,  9,  9,  9,  9,  9,  8,  8,  8,  8,  8,  8,  8,  8,  8,  8,\n",
       "        8,  8,  5,  5,  5,  5,  5,  5,  5,  5,  5,  5,  5,  1,  1,  1,  1,\n",
       "        1,  1,  1,  1,  1,  1,  1])"
      ]
     },
     "execution_count": 19,
     "metadata": {},
     "output_type": "execute_result"
    }
   ],
   "source": [
    "y"
   ]
  },
  {
   "cell_type": "code",
   "execution_count": 20,
   "id": "80dc4a0b",
   "metadata": {},
   "outputs": [
    {
     "data": {
      "text/plain": [
       "['encode']"
      ]
     },
     "execution_count": 20,
     "metadata": {},
     "output_type": "execute_result"
    }
   ],
   "source": [
    "joblib.dump(lb,\"encode\")"
   ]
  },
  {
   "cell_type": "code",
   "execution_count": 21,
   "id": "63dd0af4",
   "metadata": {},
   "outputs": [],
   "source": [
    "from sklearn.feature_extraction.text import TfidfVectorizer"
   ]
  },
  {
   "cell_type": "code",
   "execution_count": 22,
   "id": "e778483d",
   "metadata": {},
   "outputs": [],
   "source": [
    "tfidf=TfidfVectorizer()"
   ]
  },
  {
   "cell_type": "code",
   "execution_count": 23,
   "id": "e8ccb8d8",
   "metadata": {},
   "outputs": [],
   "source": [
    "x=tfidf.fit_transform(corpus1)"
   ]
  },
  {
   "cell_type": "code",
   "execution_count": 24,
   "id": "740affbb",
   "metadata": {},
   "outputs": [
    {
     "data": {
      "text/plain": [
       "160"
      ]
     },
     "execution_count": 24,
     "metadata": {},
     "output_type": "execute_result"
    }
   ],
   "source": [
    "len(corpus1)"
   ]
  },
  {
   "cell_type": "code",
   "execution_count": 25,
   "id": "c3a8c05b",
   "metadata": {},
   "outputs": [
    {
     "data": {
      "text/plain": [
       "['tfidf']"
      ]
     },
     "execution_count": 25,
     "metadata": {},
     "output_type": "execute_result"
    }
   ],
   "source": [
    "joblib.dump(tfidf,\"tfidf\")"
   ]
  },
  {
   "cell_type": "code",
   "execution_count": null,
   "id": "81df5042",
   "metadata": {},
   "outputs": [],
   "source": []
  },
  {
   "cell_type": "code",
   "execution_count": 26,
   "id": "6b984e22",
   "metadata": {},
   "outputs": [
    {
     "name": "stdout",
     "output_type": "stream",
     "text": [
      "  (0, 66)\t1.0\n",
      "  (1, 69)\t1.0\n",
      "  (2, 70)\t1.0\n",
      "  (3, 62)\t1.0\n",
      "  (4, 142)\t0.8574407911389079\n",
      "  (4, 149)\t0.5145826364065188\n",
      "  (5, 58)\t0.5776197442874023\n",
      "  (5, 80)\t0.5776197442874023\n",
      "  (5, 79)\t0.4433238855806679\n",
      "  (5, 72)\t0.3690186912506888\n",
      "  (6, 83)\t0.6852350423631597\n",
      "  (6, 154)\t0.35904549322655294\n",
      "  (6, 114)\t0.6336712637568949\n",
      "  (7, 60)\t1.0\n",
      "  (8, 33)\t0.6625757760104739\n",
      "  (8, 59)\t0.549902601374775\n",
      "  (8, 64)\t0.5085277475668102\n",
      "  (9, 18)\t1.0\n",
      "  (10, 21)\t1.0\n",
      "  (11, 153)\t0.6524276978447606\n",
      "  (11, 114)\t0.7578509741928062\n",
      "  (12, 43)\t0.6135268959411413\n",
      "  (12, 155)\t0.47825571123466853\n",
      "  (12, 79)\t0.509199840294614\n",
      "  (12, 149)\t0.3682006861375859\n",
      "  :\t:\n",
      "  (157, 129)\t0.464545683036282\n",
      "  (157, 57)\t0.464545683036282\n",
      "  (157, 41)\t0.3175717469734512\n",
      "  (157, 29)\t0.35653940030640585\n",
      "  (157, 124)\t0.310070108099862\n",
      "  (157, 51)\t0.2578124371601273\n",
      "  (157, 20)\t0.2578124371601273\n",
      "  (157, 90)\t0.22824564066117062\n",
      "  (157, 154)\t0.24340995947435964\n",
      "  (158, 92)\t0.43068406963933703\n",
      "  (158, 115)\t0.43068406963933703\n",
      "  (158, 41)\t0.2944233417369148\n",
      "  (158, 29)\t0.33055056912182845\n",
      "  (158, 152)\t0.33055056912182845\n",
      "  (158, 51)\t0.23902000103418752\n",
      "  (158, 20)\t0.23902000103418752\n",
      "  (158, 154)\t0.225667347185262\n",
      "  (158, 142)\t0.39827519291356345\n",
      "  (159, 13)\t0.43501698426531\n",
      "  (159, 7)\t0.43501698426531\n",
      "  (159, 136)\t0.43501698426531\n",
      "  (159, 41)\t0.32158456388596646\n",
      "  (159, 29)\t0.36104461007132616\n",
      "  (159, 51)\t0.26107013913756244\n",
      "  (159, 79)\t0.36104461007132616\n"
     ]
    }
   ],
   "source": [
    "print(x)"
   ]
  },
  {
   "cell_type": "code",
   "execution_count": 27,
   "id": "77b16309",
   "metadata": {},
   "outputs": [],
   "source": [
    "x_train=x.todense()"
   ]
  },
  {
   "cell_type": "code",
   "execution_count": 28,
   "id": "300d19e7",
   "metadata": {},
   "outputs": [],
   "source": [
    "from sklearn.naive_bayes import GaussianNB"
   ]
  },
  {
   "cell_type": "code",
   "execution_count": 29,
   "id": "022dcdc9",
   "metadata": {},
   "outputs": [],
   "source": [
    "nav=GaussianNB()"
   ]
  },
  {
   "cell_type": "code",
   "execution_count": 30,
   "id": "f9ea2724",
   "metadata": {},
   "outputs": [
    {
     "data": {
      "text/plain": [
       "GaussianNB()"
      ]
     },
     "execution_count": 30,
     "metadata": {},
     "output_type": "execute_result"
    }
   ],
   "source": [
    "nav.fit(x_train,y)"
   ]
  },
  {
   "cell_type": "code",
   "execution_count": 31,
   "id": "94132175",
   "metadata": {},
   "outputs": [],
   "source": [
    "pre=nav.predict(x_train)"
   ]
  },
  {
   "cell_type": "code",
   "execution_count": 32,
   "id": "71cb5094",
   "metadata": {},
   "outputs": [
    {
     "data": {
      "text/plain": [
       "array([17, 17, 17, 17, 17, 17, 16, 16, 16, 16, 16, 16, 18, 18, 18, 18, 18,\n",
       "       18, 18, 18, 18, 24, 18, 12, 13, 21, 21, 14, 15, 23, 23, 23, 19, 19,\n",
       "       19, 19, 19, 23, 23, 23, 24, 24, 24, 24, 24,  4,  4,  4,  4,  4,  4,\n",
       "        4, 22, 22, 22, 22, 22, 20, 20,  7,  7,  7,  7,  7,  7,  7, 11, 11,\n",
       "       11, 11, 11, 11, 11, 11,  3,  3,  3,  3,  3,  3,  2,  2,  3,  2,  2,\n",
       "        2,  2,  0,  0,  0,  0,  0,  3,  6,  6,  6,  6,  6,  6,  6,  6,  6,\n",
       "        6,  6,  6, 10, 10, 10, 10, 10, 10, 10, 10, 10, 10,  9,  9,  9,  9,\n",
       "        9, 10,  9,  9,  9,  9,  9,  8,  8,  8,  8,  8,  8,  8,  8,  8,  8,\n",
       "        8,  8,  5,  5,  5,  5,  5,  5,  5,  5,  5,  5,  5,  1,  1,  1,  1,\n",
       "        1,  1,  1,  1,  1,  1,  1])"
      ]
     },
     "execution_count": 32,
     "metadata": {},
     "output_type": "execute_result"
    }
   ],
   "source": [
    "pre"
   ]
  },
  {
   "cell_type": "code",
   "execution_count": 33,
   "id": "760d4c87",
   "metadata": {},
   "outputs": [],
   "source": [
    "from sklearn.metrics import accuracy_score"
   ]
  },
  {
   "cell_type": "code",
   "execution_count": 34,
   "id": "4bbc2ece",
   "metadata": {},
   "outputs": [
    {
     "data": {
      "text/plain": [
       "0.975"
      ]
     },
     "execution_count": 34,
     "metadata": {},
     "output_type": "execute_result"
    }
   ],
   "source": [
    "accuracy_score(pre,y)"
   ]
  },
  {
   "cell_type": "code",
   "execution_count": 35,
   "id": "4f54e94f",
   "metadata": {},
   "outputs": [],
   "source": [
    "from sklearn.ensemble import RandomForestClassifier"
   ]
  },
  {
   "cell_type": "code",
   "execution_count": 36,
   "id": "afbe7d8c",
   "metadata": {},
   "outputs": [],
   "source": [
    "rand=RandomForestClassifier()"
   ]
  },
  {
   "cell_type": "code",
   "execution_count": 37,
   "id": "c1e2a2c7",
   "metadata": {},
   "outputs": [
    {
     "data": {
      "text/plain": [
       "RandomForestClassifier()"
      ]
     },
     "execution_count": 37,
     "metadata": {},
     "output_type": "execute_result"
    }
   ],
   "source": [
    "rand.fit(x_train,y)"
   ]
  },
  {
   "cell_type": "code",
   "execution_count": 38,
   "id": "f4093a51",
   "metadata": {},
   "outputs": [],
   "source": [
    "pred2=rand.predict(x_train)"
   ]
  },
  {
   "cell_type": "code",
   "execution_count": 39,
   "id": "2d581e27",
   "metadata": {},
   "outputs": [
    {
     "data": {
      "text/plain": [
       "['random']"
      ]
     },
     "execution_count": 39,
     "metadata": {},
     "output_type": "execute_result"
    }
   ],
   "source": [
    "joblib.dump(rand,\"random\")"
   ]
  },
  {
   "cell_type": "code",
   "execution_count": 40,
   "id": "7102f5c0",
   "metadata": {},
   "outputs": [],
   "source": [
    "model=joblib.load(\"random\")"
   ]
  },
  {
   "cell_type": "code",
   "execution_count": 41,
   "id": "a5edaab9",
   "metadata": {},
   "outputs": [
    {
     "data": {
      "text/plain": [
       "array([[0.06, 0.  , 0.02, ..., 0.  , 0.  , 0.02],\n",
       "       [0.04, 0.  , 0.03, ..., 0.  , 0.  , 0.01],\n",
       "       [0.07, 0.  , 0.04, ..., 0.  , 0.  , 0.01],\n",
       "       ...,\n",
       "       [0.  , 0.94, 0.  , ..., 0.  , 0.  , 0.02],\n",
       "       [0.  , 0.91, 0.  , ..., 0.  , 0.  , 0.02],\n",
       "       [0.  , 0.99, 0.  , ..., 0.  , 0.  , 0.01]])"
      ]
     },
     "execution_count": 41,
     "metadata": {},
     "output_type": "execute_result"
    }
   ],
   "source": [
    "model.predict_proba(x_train)"
   ]
  },
  {
   "cell_type": "code",
   "execution_count": 42,
   "id": "c036a7e6",
   "metadata": {},
   "outputs": [
    {
     "data": {
      "text/plain": [
       "0.99375"
      ]
     },
     "execution_count": 42,
     "metadata": {},
     "output_type": "execute_result"
    }
   ],
   "source": [
    "accuracy_score(y,pred2)"
   ]
  },
  {
   "cell_type": "code",
   "execution_count": 43,
   "id": "6c7efb5a",
   "metadata": {},
   "outputs": [],
   "source": [
    "from sklearn.svm import SVC\n"
   ]
  },
  {
   "cell_type": "code",
   "execution_count": 44,
   "id": "449e11ae",
   "metadata": {},
   "outputs": [],
   "source": [
    "svm=SVC()"
   ]
  },
  {
   "cell_type": "code",
   "execution_count": 45,
   "id": "dbead855",
   "metadata": {},
   "outputs": [
    {
     "data": {
      "text/plain": [
       "SVC()"
      ]
     },
     "execution_count": 45,
     "metadata": {},
     "output_type": "execute_result"
    }
   ],
   "source": [
    "svm.fit(x_train,y)"
   ]
  },
  {
   "cell_type": "code",
   "execution_count": 46,
   "id": "c7c45400",
   "metadata": {},
   "outputs": [],
   "source": [
    "pred3=svm.predict(x_train)"
   ]
  },
  {
   "cell_type": "code",
   "execution_count": 47,
   "id": "c4fc25aa",
   "metadata": {},
   "outputs": [
    {
     "data": {
      "text/plain": [
       "0.96875"
      ]
     },
     "execution_count": 47,
     "metadata": {},
     "output_type": "execute_result"
    }
   ],
   "source": [
    "accuracy_score(y,pred3)"
   ]
  },
  {
   "cell_type": "code",
   "execution_count": 48,
   "id": "0916a981",
   "metadata": {},
   "outputs": [],
   "source": [
    "import random"
   ]
  },
  {
   "cell_type": "code",
   "execution_count": 49,
   "id": "727bf0ae",
   "metadata": {},
   "outputs": [],
   "source": [
    "l=[\"hello\",\"hey\",\"hi\",\"good day\",\"greetings\",\"what's up?\",\"how is it going\"]"
   ]
  },
  {
   "cell_type": "code",
   "execution_count": 50,
   "id": "bdf9f7b3",
   "metadata": {},
   "outputs": [],
   "source": [
    "from nltk.corpus import stopwords\n",
    "stops = set(stopwords.words('english'))"
   ]
  },
  {
   "cell_type": "code",
   "execution_count": 51,
   "id": "485ffc10",
   "metadata": {},
   "outputs": [],
   "source": [
    "stops.add(\"name\")"
   ]
  },
  {
   "cell_type": "code",
   "execution_count": 52,
   "id": "526b9ec8",
   "metadata": {},
   "outputs": [],
   "source": [
    "b1=[]"
   ]
  },
  {
   "cell_type": "code",
   "execution_count": 53,
   "id": "e5d2b075",
   "metadata": {},
   "outputs": [],
   "source": [
    "folder=\"C:\\\\Users\\\\thota\\\\Videos\\\\songs\""
   ]
  },
  {
   "cell_type": "code",
   "execution_count": 54,
   "id": "a9abfe8d",
   "metadata": {},
   "outputs": [],
   "source": [
    "apps=[]\n",
    "for i in os.listdir(folder):\n",
    "     apps.append(i)"
   ]
  },
  {
   "cell_type": "code",
   "execution_count": 55,
   "id": "053b7437",
   "metadata": {},
   "outputs": [
    {
     "name": "stdout",
     "output_type": "stream",
     "text": [
      "[\"It's realme.mp3\", 'khader.txt', 'ytuy.txt', 'yu.txt', '[iSongs.info] 01 - Samajavaragamana.mp3', '[iSongs.info] 04 - Love Me Again.mp3']\n"
     ]
    }
   ],
   "source": [
    "print(apps)"
   ]
  },
  {
   "cell_type": "code",
   "execution_count": null,
   "id": "edd564a9",
   "metadata": {},
   "outputs": [
    {
     "name": "stdout",
     "output_type": "stream",
     "text": [
      "you :hi\n",
      "medbot :  what is your name \n",
      "you : i am siva\n",
      "hello  siva\n",
      "you :fever\n",
      "medbot :  medicines you can consume : acetaminophen ,ibuprofen,aspirin,Crocin Cold & Flu Max, prevention that you must follow :Wash your hands,Cover your mouth when you cough and your nose when you sneeze,Clean frequently used surfaces,Avoid sharing cups, glasses, and eating utensils with other people.,SUGGESTED FOODS ARE:Garlic,Vitamin Câ€“containing fruits,Leafy greens,Broccoli,Oatmeal,Spices,Chicken Soup\n",
      "you :play a song\n",
      "medbot :  i will sing\n",
      "enter the letter p to pause the song p\n",
      "you :good morning\n",
      "medbot :   hi very good morning\n",
      "you :i have cold\n",
      "medbot :  medicines you can consume : Dextromethorphan,Decongestant,Diphenhydramine,Crocin Cold & Flu Max, preventions that you must follow :Wash your hands,Avoid touching your face,Clean frequently used surfaces,Use hand sanitizers,SUGGESTED FOODS ARE:Garlic,Vitamin Câ€“containing fruits,Leafy greens,Broccoli,Oatmeal,Spices,Chicken Soup\n",
      "you :weight loss\n",
      "medbot :  It seems that you are suffering from Diabetes\n",
      "you :throat pain cough chills\n",
      "medbot :  It seems that you are suffering from common cold\n",
      "you :tell me joke\n",
      "medbot :  you are beautiful\n",
      "you :heart attack\n",
      "i dont understand your problem please consult to your doctor\n",
      "you :can you say about doctor consultation\n",
      "medbot :  You can contact various doctors here for any kind of consultation: 1. https://www.1mg.com/online-doctor-consultation, 2. https://www.tatahealth.com/online-doctor-consultation/general-physician, 3. https://www.doconline.com/, or you can pay a visit to your local area doctor or family doctor.\n",
      "you :medicines\n",
      "i dont understand your problem please consult to your doctor\n",
      "you :i love you\n",
      "medbot :  love you to\n",
      "you :thank you\n",
      "medbot :  welcome to you\n"
     ]
    }
   ],
   "source": [
    "n1=input(\"you :\")\n",
    "if n1 in l:\n",
    "        print(\"medbot : \",\"what is your name \")\n",
    "        m=input(\"you : \")\n",
    "        words=word_tokenize(m)\n",
    "        b1=[]\n",
    "        for i in words:\n",
    "            if i not in stops:\n",
    "                b1.append(i)\n",
    "        print(\"hello \",b1[0])\n",
    "m1=b1[0]\n",
    "        \n",
    "while True:\n",
    "  n=input(\"you :\") \n",
    "  b=tfidf.transform([n])\n",
    "  red1=b.todense()\n",
    "  p=rand.predict(red1)\n",
    "  n=rand.predict_proba(red1)[0]\n",
    "\n",
    "  prob=max(n)\n",
    "  if prob<0.3:\n",
    "    print(\"i dont understand your problem please consult to your doctor\")\n",
    "    continue\n",
    "  pred=lb.inverse_transform(p)\n",
    "  engine = pyttsx3.init()\n",
    "  if pred==\"laugh\":\n",
    "        print(\"medbot  : ha ha \\U0001F923\\U0001F923\\U0001F923\\U0001F923\")\n",
    "        continue\n",
    "  \n",
    "  elif pred==\"song\":\n",
    "        mixer.init()\n",
    "        folder=\"C:\\\\Users\\\\thota\\\\Videos\\\\songs\"\n",
    "        apps=[]\n",
    "        for i in os.listdir(folder):\n",
    "            apps.append(i)\n",
    "        n1=random.choice(apps)    \n",
    "        mixer.music.load(folder+\"\\\\\"+n1)\n",
    "        mixer.music.play()\n",
    "        print(\"medbot : \",random.choice(responses[pred[0]]))\n",
    "        m=input(\"enter the letter p to pause the song \")\n",
    "   \n",
    "     \n",
    "        if m:\n",
    "             mixer.music.pause()\n",
    "        continue\n",
    "  x=random.choice(responses[pred[0]])\n",
    "  print(\"medbot : \",x)\n",
    "  engine.say(x)\n",
    "  engine. setProperty(\"rate\", 178)\n",
    "  engine.runAndWait()\n",
    "  "
   ]
  },
  {
   "cell_type": "code",
   "execution_count": null,
   "id": "169c7b2f",
   "metadata": {},
   "outputs": [],
   "source": [
    "print(\"\\U0001F923\\U0001F923\\U0001F923\\U0001F923\")"
   ]
  },
  {
   "cell_type": "code",
   "execution_count": null,
   "id": "431c97f9",
   "metadata": {},
   "outputs": [],
   "source": []
  }
 ],
 "metadata": {
  "kernelspec": {
   "display_name": "Python 3 (ipykernel)",
   "language": "python",
   "name": "python3"
  },
  "language_info": {
   "codemirror_mode": {
    "name": "ipython",
    "version": 3
   },
   "file_extension": ".py",
   "mimetype": "text/x-python",
   "name": "python",
   "nbconvert_exporter": "python",
   "pygments_lexer": "ipython3",
   "version": "3.8.8"
  }
 },
 "nbformat": 4,
 "nbformat_minor": 5
}
